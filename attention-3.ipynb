{
 "cells": [
  {
   "cell_type": "code",
   "id": "initial_id",
   "metadata": {
    "collapsed": true,
    "ExecuteTime": {
     "end_time": "2024-11-17T10:17:44.529546Z",
     "start_time": "2024-11-17T10:17:44.523646Z"
    }
   },
   "source": [
    "import torch\n",
    "\n",
    "inputs = torch.tensor(\n",
    "    [[0.43, 0.15, 0.89],  # Your     (x^1)\n",
    "     [0.55, 0.87, 0.66],  # journey  (x^2)\n",
    "     [0.57, 0.85, 0.64],  # starts   (x^3)\n",
    "     [0.22, 0.58, 0.33],  # with     (x^4)\n",
    "     [0.77, 0.25, 0.10],  # one      (x^5)\n",
    "     [0.05, 0.80, 0.55]]  # step     (x^6)\n",
    ")\n",
    "\n",
    "x_2 = inputs[1]     #1\n",
    "d_in = inputs.shape[1]      #2\n",
    "d_out = 2         #3\n",
    "\n",
    "x_2, d_in, d_out"
   ],
   "outputs": [
    {
     "data": {
      "text/plain": [
       "(tensor([0.5500, 0.8700, 0.6600]), 3, 2)"
      ]
     },
     "execution_count": 3,
     "metadata": {},
     "output_type": "execute_result"
    }
   ],
   "execution_count": 3
  },
  {
   "metadata": {
    "ExecuteTime": {
     "end_time": "2024-11-17T10:18:36.968254Z",
     "start_time": "2024-11-17T10:18:36.961712Z"
    }
   },
   "cell_type": "code",
   "source": [
    "torch.manual_seed(123)\n",
    "W_query = torch.nn.Parameter(torch.rand(d_in, d_out), requires_grad=False)\n",
    "W_key   = torch.nn.Parameter(torch.rand(d_in, d_out), requires_grad=False)\n",
    "W_value = torch.nn.Parameter(torch.rand(d_in, d_out), requires_grad=False)\n",
    "W_query, W_key, W_value"
   ],
   "id": "5d65941eb04071b9",
   "outputs": [
    {
     "data": {
      "text/plain": [
       "(Parameter containing:\n",
       " tensor([[0.2961, 0.5166],\n",
       "         [0.2517, 0.6886],\n",
       "         [0.0740, 0.8665]]),\n",
       " Parameter containing:\n",
       " tensor([[0.1366, 0.1025],\n",
       "         [0.1841, 0.7264],\n",
       "         [0.3153, 0.6871]]),\n",
       " Parameter containing:\n",
       " tensor([[0.0756, 0.1966],\n",
       "         [0.3164, 0.4017],\n",
       "         [0.1186, 0.8274]]))"
      ]
     },
     "execution_count": 6,
     "metadata": {},
     "output_type": "execute_result"
    }
   ],
   "execution_count": 6
  },
  {
   "metadata": {
    "ExecuteTime": {
     "end_time": "2024-11-17T10:22:55.034187Z",
     "start_time": "2024-11-17T10:22:55.029635Z"
    }
   },
   "cell_type": "code",
   "source": [
    "query_2 = x_2 @ W_query\n",
    "key_2 = x_2 @ W_key\n",
    "value_2 = x_2 @ W_value\n",
    "print(\"Query:\", query_2)\n",
    "print(\"Key:  \", key_2)\n",
    "print(\"Value:\", value_2)"
   ],
   "id": "97735742fcb647f0",
   "outputs": [
    {
     "name": "stdout",
     "output_type": "stream",
     "text": [
      "Query: tensor([0.4306, 1.4551])\n",
      "Key:   tensor([0.4433, 1.1419])\n",
      "Value: tensor([0.3951, 1.0037])\n"
     ]
    }
   ],
   "execution_count": 10
  },
  {
   "metadata": {
    "ExecuteTime": {
     "end_time": "2024-11-17T10:35:11.912156Z",
     "start_time": "2024-11-17T10:35:11.906831Z"
    }
   },
   "cell_type": "code",
   "source": [
    "keys = inputs @ W_key\n",
    "values = inputs @ W_value\n",
    "print(\"keys.shape:\", keys.shape)\n",
    "print(\"values.shape:\", values.shape)\n",
    "keys, values"
   ],
   "id": "bb7cc6f0be67d798",
   "outputs": [
    {
     "name": "stdout",
     "output_type": "stream",
     "text": [
      "keys.shape: torch.Size([6, 2])\n",
      "values.shape: torch.Size([6, 2])\n"
     ]
    },
    {
     "data": {
      "text/plain": [
       "(tensor([[0.3669, 0.7646],\n",
       "         [0.4433, 1.1419],\n",
       "         [0.4361, 1.1156],\n",
       "         [0.2408, 0.6706],\n",
       "         [0.1827, 0.3292],\n",
       "         [0.3275, 0.9642]]),\n",
       " tensor([[0.1855, 0.8812],\n",
       "         [0.3951, 1.0037],\n",
       "         [0.3879, 0.9831],\n",
       "         [0.2393, 0.5493],\n",
       "         [0.1492, 0.3346],\n",
       "         [0.3221, 0.7863]]))"
      ]
     },
     "execution_count": 13,
     "metadata": {},
     "output_type": "execute_result"
    }
   ],
   "execution_count": 13
  },
  {
   "metadata": {
    "ExecuteTime": {
     "end_time": "2024-11-17T10:36:19.830699Z",
     "start_time": "2024-11-17T10:36:19.827671Z"
    }
   },
   "cell_type": "code",
   "source": [
    "keys = inputs @ W_key\n",
    "values = inputs @ W_value\n",
    "print(\"keys.shape:\", keys.shape)\n",
    "print(\"values.shape:\", values.shape)"
   ],
   "id": "1653c26c4d738e10",
   "outputs": [
    {
     "name": "stdout",
     "output_type": "stream",
     "text": [
      "keys.shape: torch.Size([6, 2])\n",
      "values.shape: torch.Size([6, 2])\n"
     ]
    }
   ],
   "execution_count": 15
  },
  {
   "metadata": {
    "ExecuteTime": {
     "end_time": "2024-11-17T10:37:22.700786Z",
     "start_time": "2024-11-17T10:37:22.696352Z"
    }
   },
   "cell_type": "code",
   "source": [
    "keys_2 = keys[1]             #1\n",
    "print(\"Keys[1]:\", keys_2)\n",
    "print(\"Query[1]:\", query_2)\n",
    "attn_score_22 = query_2.dot(keys_2)\n",
    "print(attn_score_22)"
   ],
   "id": "406da6c782a74833",
   "outputs": [
    {
     "name": "stdout",
     "output_type": "stream",
     "text": [
      "Keys[1]: tensor([0.4433, 1.1419])\n",
      "Query[1]: tensor([0.4306, 1.4551])\n",
      "tensor(1.8524)\n"
     ]
    }
   ],
   "execution_count": 18
  },
  {
   "metadata": {
    "ExecuteTime": {
     "end_time": "2024-11-17T10:57:58.330142Z",
     "start_time": "2024-11-17T10:57:58.325075Z"
    }
   },
   "cell_type": "code",
   "source": [
    "print(f\"Query: {query_2}\")\n",
    "print(f\"Keys:  {keys}\")\n",
    "attn_scores_2 = query_2 @ keys.T       #1\n",
    "print(attn_scores_2)"
   ],
   "id": "abcef4887dc4b74e",
   "outputs": [
    {
     "name": "stdout",
     "output_type": "stream",
     "text": [
      "Query: tensor([0.4306, 1.4551])\n",
      "Keys:  tensor([[0.3669, 0.7646],\n",
      "        [0.4433, 1.1419],\n",
      "        [0.4361, 1.1156],\n",
      "        [0.2408, 0.6706],\n",
      "        [0.1827, 0.3292],\n",
      "        [0.3275, 0.9642]])\n",
      "tensor([1.2705, 1.8524, 1.8111, 1.0795, 0.5577, 1.5440])\n"
     ]
    }
   ],
   "execution_count": 34
  },
  {
   "metadata": {
    "ExecuteTime": {
     "end_time": "2024-11-17T10:46:14.953059Z",
     "start_time": "2024-11-17T10:46:14.948107Z"
    }
   },
   "cell_type": "code",
   "source": [
    "d_k = keys.shape[-1]\n",
    "print(d_k)\n",
    "attn_weights_2 = torch.softmax(attn_scores_2 / (d_k ** 0.5), dim=-1)  #1\n",
    "attn_weights_2"
   ],
   "id": "273f38b58f8985f6",
   "outputs": [
    {
     "name": "stdout",
     "output_type": "stream",
     "text": [
      "2\n"
     ]
    },
    {
     "data": {
      "text/plain": [
       "tensor([0.1500, 0.2264, 0.2199, 0.1311, 0.0906, 0.1820])"
      ]
     },
     "execution_count": 25,
     "metadata": {},
     "output_type": "execute_result"
    }
   ],
   "execution_count": 25
  },
  {
   "metadata": {
    "ExecuteTime": {
     "end_time": "2024-11-17T10:50:38.179929Z",
     "start_time": "2024-11-17T10:50:38.175778Z"
    }
   },
   "cell_type": "code",
   "source": [
    "print(f\"Attention weights: {attn_weights_2}\")\n",
    "print(f\"Values:            {values}\")\n",
    "context_vec_2 = attn_weights_2 @ values\n",
    "print(context_vec_2)"
   ],
   "id": "bf1a397dce4a7873",
   "outputs": [
    {
     "name": "stdout",
     "output_type": "stream",
     "text": [
      "Attention weights: tensor([0.1500, 0.2264, 0.2199, 0.1311, 0.0906, 0.1820])\n",
      "Values:            tensor([[0.1855, 0.8812],\n",
      "        [0.3951, 1.0037],\n",
      "        [0.3879, 0.9831],\n",
      "        [0.2393, 0.5493],\n",
      "        [0.1492, 0.3346],\n",
      "        [0.3221, 0.7863]])\n",
      "tensor([0.3061, 0.8210])\n"
     ]
    }
   ],
   "execution_count": 31
  },
  {
   "metadata": {
    "ExecuteTime": {
     "end_time": "2024-11-17T10:52:39.700722Z",
     "start_time": "2024-11-17T10:52:39.697718Z"
    }
   },
   "cell_type": "code",
   "source": [
    "(0.2*0.2 + 0.2*0.4 + 0.2*0.4 + 0.1*0.2 + 0.1*0.1 * 0.2*0.3,\n",
    " 0.2*0.9 + 0.2*1 + 0.2*1 + 0.1*0.5 + 0.1*0.3 * 0.2*0.8)"
   ],
   "id": "8f184c56b6c6b7bf",
   "outputs": [
    {
     "data": {
      "text/plain": [
       "(0.22060000000000002, 0.6348000000000001)"
      ]
     },
     "execution_count": 33,
     "metadata": {},
     "output_type": "execute_result"
    }
   ],
   "execution_count": 33
  }
 ],
 "metadata": {
  "kernelspec": {
   "display_name": "Python 3",
   "language": "python",
   "name": "python3"
  },
  "language_info": {
   "codemirror_mode": {
    "name": "ipython",
    "version": 2
   },
   "file_extension": ".py",
   "mimetype": "text/x-python",
   "name": "python",
   "nbconvert_exporter": "python",
   "pygments_lexer": "ipython2",
   "version": "2.7.6"
  }
 },
 "nbformat": 4,
 "nbformat_minor": 5
}
