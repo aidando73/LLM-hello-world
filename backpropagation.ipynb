{
 "cells": [
  {
   "cell_type": "code",
   "id": "initial_id",
   "metadata": {
    "collapsed": true,
    "ExecuteTime": {
     "end_time": "2024-11-18T21:38:15.826057Z",
     "start_time": "2024-11-18T21:38:15.823641Z"
    }
   },
   "source": [
    "import torch\n",
    "from torch import nn\n",
    "\n",
    "\n",
    "class BasicNeuralNet(nn.Module):\n",
    "    def __init__(self):\n",
    "        super().__init__()\n",
    "        self.fc1 = nn.Linear(1, 1, bias=False)\n",
    "        self.fc2 = nn.Linear(1, 2, bias=False)\n",
    "\n",
    "    def forward(self, x):\n",
    "        x = self.fc1(x)\n",
    "        x = self.fc2(x)\n",
    "        return x"
   ],
   "outputs": [],
   "execution_count": 17
  },
  {
   "metadata": {
    "ExecuteTime": {
     "end_time": "2024-11-18T21:38:16.854915Z",
     "start_time": "2024-11-18T21:38:16.850747Z"
    }
   },
   "cell_type": "code",
   "source": [
    "torch.manual_seed(123)\n",
    "model = BasicNeuralNet()\n",
    "x = torch.tensor([0.5])\n",
    "output = model(x)\n",
    "output"
   ],
   "id": "81bf5aba6ccebc5b",
   "outputs": [
    {
     "data": {
      "text/plain": [
       "tensor([-0.0068,  0.1013], grad_fn=<SqueezeBackward4>)"
      ]
     },
     "execution_count": 18,
     "metadata": {},
     "output_type": "execute_result"
    }
   ],
   "execution_count": 18
  },
  {
   "metadata": {
    "ExecuteTime": {
     "end_time": "2024-11-18T21:39:14.553839Z",
     "start_time": "2024-11-18T21:39:14.550612Z"
    }
   },
   "cell_type": "code",
   "source": [
    "print(\"fc1 weight:\", model.fc1.weight)\n",
    "print(\"fc1 bias:\", model.fc1.bias)\n",
    "print(\"fc2 weight:\", model.fc2.weight)\n",
    "print(\"fc2 bias:\", model.fc2.bias)"
   ],
   "id": "7294c20a5a3d1d38",
   "outputs": [
    {
     "name": "stdout",
     "output_type": "stream",
     "text": [
      "fc1 weight: Parameter containing:\n",
      "tensor([[-0.4078]], requires_grad=True)\n",
      "fc1 bias: None\n",
      "fc2 weight: Parameter containing:\n",
      "tensor([[ 0.0331],\n",
      "        [-0.4967]], requires_grad=True)\n",
      "fc2 bias: None\n"
     ]
    }
   ],
   "execution_count": 24
  },
  {
   "metadata": {},
   "cell_type": "code",
   "outputs": [],
   "execution_count": null,
   "source": "",
   "id": "4f6d7e60489f0409"
  }
 ],
 "metadata": {
  "kernelspec": {
   "display_name": "Python 3",
   "language": "python",
   "name": "python3"
  },
  "language_info": {
   "codemirror_mode": {
    "name": "ipython",
    "version": 2
   },
   "file_extension": ".py",
   "mimetype": "text/x-python",
   "name": "python",
   "nbconvert_exporter": "python",
   "pygments_lexer": "ipython2",
   "version": "2.7.6"
  }
 },
 "nbformat": 4,
 "nbformat_minor": 5
}
