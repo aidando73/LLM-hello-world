{
 "cells": [
  {
   "metadata": {
    "ExecuteTime": {
     "end_time": "2024-11-17T07:44:22.034170Z",
     "start_time": "2024-11-17T07:44:21.862244Z"
    }
   },
   "cell_type": "code",
   "source": [
    "import torch\n",
    "from torch.utils.data import Dataset, DataLoader\n",
    "import tiktoken\n",
    "\n",
    "tokenizer = tiktoken.get_encoding(\"gpt2\")\n",
    "\n",
    "with open(\"the-verdict.txt\", \"r\", encoding=\"utf-8\") as f:\n",
    "    raw_text = f.read()\n",
    "\n",
    "enc_text = tokenizer.encode(raw_text)\n",
    "\n",
    "\n",
    "class GPTDatasetV1(Dataset):\n",
    "    def __init__(self, txt, tokenizer, max_length, stride):\n",
    "        self.input_ids = []\n",
    "        self.target_ids = []\n",
    "\n",
    "        token_ids = tokenizer.encode(txt)  #1\n",
    "\n",
    "        for i in range(0, len(token_ids) - max_length, stride):  #2\n",
    "            input_chunk = token_ids[i:i + max_length]\n",
    "            target_chunk = token_ids[i + 1: i + max_length + 1]\n",
    "            self.input_ids.append(torch.tensor(input_chunk))\n",
    "            self.target_ids.append(torch.tensor(target_chunk))\n",
    "\n",
    "    def __len__(self):  #3\n",
    "        return len(self.input_ids)\n",
    "\n",
    "    def __getitem__(self, idx):  #4\n",
    "        return self.input_ids[idx], self.target_ids[idx]\n",
    "\n",
    "\n",
    "def create_dataloader_v1(txt, batch_size=4, max_length=256,\n",
    "                         stride=128, shuffle=True, drop_last=True,\n",
    "                         num_workers=0):\n",
    "    tokenizer = tiktoken.get_encoding(\"gpt2\")  #1\n",
    "    dataset = GPTDatasetV1(txt, tokenizer, max_length, stride)  #2\n",
    "    dataloader = DataLoader(\n",
    "        dataset,\n",
    "        batch_size=batch_size,\n",
    "        shuffle=shuffle,\n",
    "        drop_last=drop_last,  #3\n",
    "        num_workers=num_workers  #4\n",
    "    )\n",
    "\n",
    "    return dataloader"
   ],
   "id": "5b117d8d8df98cf3",
   "outputs": [],
   "execution_count": 3
  },
  {
   "cell_type": "code",
   "id": "initial_id",
   "metadata": {
    "collapsed": true,
    "ExecuteTime": {
     "end_time": "2024-11-17T07:43:22.267016Z",
     "start_time": "2024-11-17T07:43:22.143776Z"
    }
   },
   "source": [
    "import torch\n",
    "\n",
    "vocab_size = 50257\n",
    "output_dim = 256\n",
    "token_embedding_layer = torch.nn.Embedding(vocab_size, output_dim)"
   ],
   "outputs": [],
   "execution_count": 2
  },
  {
   "metadata": {
    "ExecuteTime": {
     "end_time": "2024-11-17T07:45:43.818396Z",
     "start_time": "2024-11-17T07:45:43.802453Z"
    }
   },
   "cell_type": "code",
   "source": [
    "max_length = 4\n",
    "dataloader = create_dataloader_v1(raw_text, batch_size=8, max_length=max_length, stride=max_length, shuffle=False)\n",
    "data_iter = iter(dataloader)  #1\n",
    "inputs, targets = next(data_iter)\n",
    "\"inputs\", inputs, \"targets\", targets"
   ],
   "id": "f0d6800bfe830151",
   "outputs": [
    {
     "data": {
      "text/plain": [
       "('inputs',\n",
       " tensor([[   40,   367,  2885,  1464],\n",
       "         [ 1807,  3619,   402,   271],\n",
       "         [10899,  2138,   257,  7026],\n",
       "         [15632,   438,  2016,   257],\n",
       "         [  922,  5891,  1576,   438],\n",
       "         [  568,   340,   373,   645],\n",
       "         [ 1049,  5975,   284,   502],\n",
       "         [  284,  3285,   326,    11]]),\n",
       " 'targets',\n",
       " tensor([[  367,  2885,  1464,  1807],\n",
       "         [ 3619,   402,   271, 10899],\n",
       "         [ 2138,   257,  7026, 15632],\n",
       "         [  438,  2016,   257,   922],\n",
       "         [ 5891,  1576,   438,   568],\n",
       "         [  340,   373,   645,  1049],\n",
       "         [ 5975,   284,   502,   284],\n",
       "         [ 3285,   326,    11,   287]]))"
      ]
     },
     "execution_count": 7,
     "metadata": {},
     "output_type": "execute_result"
    }
   ],
   "execution_count": 7
  },
  {
   "metadata": {
    "ExecuteTime": {
     "end_time": "2024-11-17T07:46:28.179058Z",
     "start_time": "2024-11-17T07:46:28.176008Z"
    }
   },
   "cell_type": "code",
   "source": [
    "token_embeddings = token_embedding_layer(inputs)\n",
    "token_embeddings.shape"
   ],
   "id": "39c664264ff37ee1",
   "outputs": [
    {
     "data": {
      "text/plain": [
       "torch.Size([8, 4, 256])"
      ]
     },
     "execution_count": 8,
     "metadata": {},
     "output_type": "execute_result"
    }
   ],
   "execution_count": 8
  },
  {
   "metadata": {
    "ExecuteTime": {
     "end_time": "2024-11-17T07:48:05.915094Z",
     "start_time": "2024-11-17T07:48:05.911435Z"
    }
   },
   "cell_type": "code",
   "source": [
    "context_length = max_length\n",
    "pos_embedding_layer = torch.nn.Embedding(context_length, output_dim)\n",
    "pos_embeddings = pos_embedding_layer(torch.arange(context_length))\n",
    "pos_embeddings.shape"
   ],
   "id": "ad16f108e65a3939",
   "outputs": [
    {
     "data": {
      "text/plain": [
       "torch.Size([4, 256])"
      ]
     },
     "execution_count": 13,
     "metadata": {},
     "output_type": "execute_result"
    }
   ],
   "execution_count": 13
  },
  {
   "metadata": {
    "ExecuteTime": {
     "end_time": "2024-11-17T07:48:44.892694Z",
     "start_time": "2024-11-17T07:48:44.888140Z"
    }
   },
   "cell_type": "code",
   "source": [
    "input_embeddings = token_embeddings + pos_embeddings\n",
    "input_embeddings.shape, input_embeddings"
   ],
   "id": "5972cac7dd933861",
   "outputs": [
    {
     "data": {
      "text/plain": [
       "(torch.Size([8, 4, 256]),\n",
       " tensor([[[-1.8877e+00,  2.9195e-01, -9.2119e-01,  ...,  1.2567e+00,\n",
       "            2.5795e+00, -6.7325e-01],\n",
       "          [ 4.8928e-01,  2.4501e+00,  1.3846e+00,  ..., -1.7016e-01,\n",
       "           -2.4442e+00,  5.4236e-01],\n",
       "          [ 1.8391e-02, -2.3120e-01, -7.5453e-01,  ..., -1.8812e+00,\n",
       "            8.9344e-01,  1.4504e+00],\n",
       "          [ 8.7843e-01,  1.1030e+00,  1.4210e+00,  ...,  2.4513e-01,\n",
       "           -1.4172e+00, -1.0859e+00]],\n",
       " \n",
       "         [[-7.4917e-01, -2.7147e+00,  6.2152e-01,  ...,  5.6238e-01,\n",
       "            4.4143e-01,  1.5595e+00],\n",
       "          [ 1.6096e+00,  2.1191e+00,  2.4365e-01,  ..., -2.5673e+00,\n",
       "           -1.1974e+00,  1.0552e+00],\n",
       "          [-4.3857e-01, -2.8041e-01, -3.9837e-01,  ..., -5.4297e-01,\n",
       "            9.0635e-01,  5.5656e-01],\n",
       "          [ 1.2936e+00,  1.4021e+00,  1.0828e+00,  ...,  1.6165e+00,\n",
       "           -1.7687e-01, -1.3249e+00]],\n",
       " \n",
       "         [[-1.0766e+00, -2.2005e+00,  3.3353e-01,  ..., -5.8690e-01,\n",
       "            9.9560e-01,  1.0741e+00],\n",
       "          [ 1.0906e+00,  1.9840e+00, -5.2848e-01,  ..., -3.4105e-02,\n",
       "           -1.3297e-01,  2.9561e-01],\n",
       "          [-5.7300e-01, -4.1789e-01,  9.9549e-02,  ..., -3.1857e+00,\n",
       "           -5.3277e-01,  1.0252e+00],\n",
       "          [-2.0688e-02,  1.3945e+00,  2.1012e+00,  ...,  7.6932e-01,\n",
       "            1.9485e+00, -5.9849e-02]],\n",
       " \n",
       "         ...,\n",
       " \n",
       "         [[-9.6349e-01, -1.8944e+00,  9.5726e-01,  ..., -1.4703e+00,\n",
       "           -4.1167e-01, -2.0807e+00],\n",
       "          [-2.8912e-01,  3.3242e+00,  8.8153e-02,  ...,  1.1746e+00,\n",
       "           -1.3138e+00,  1.1650e+00],\n",
       "          [ 8.9462e-01, -1.3223e+00, -9.2082e-01,  ..., -1.2389e-02,\n",
       "            2.4612e+00,  2.0830e+00],\n",
       "          [-6.1545e-01,  7.5301e-01,  2.9077e-01,  ...,  9.8188e-03,\n",
       "            1.0908e-01, -2.9444e-01]],\n",
       " \n",
       "         [[-1.7032e+00, -9.0533e-01,  5.2155e-01,  ..., -1.0231e+00,\n",
       "            1.4787e+00,  3.4359e-01],\n",
       "          [ 2.3541e-01,  2.2688e+00, -3.0525e-01,  ...,  3.5899e-01,\n",
       "           -5.2454e-01,  1.0255e+00],\n",
       "          [ 1.0529e+00,  2.7355e-03, -4.2427e-01,  ..., -1.5761e+00,\n",
       "            5.9303e-01,  1.8556e+00],\n",
       "          [ 1.2933e+00,  9.2213e-01,  5.5470e-01,  ...,  3.3613e+00,\n",
       "           -8.5574e-01, -7.1329e-02]],\n",
       " \n",
       "         [[-2.0789e-01, -3.8386e-01, -3.2818e-01,  ..., -1.0196e+00,\n",
       "            7.1116e-01,  5.2812e-01],\n",
       "          [ 2.0229e-01,  3.0106e+00,  7.5297e-01,  ...,  3.2979e-01,\n",
       "           -5.5350e-01,  1.8977e+00],\n",
       "          [-6.7951e-01,  4.6303e-01,  1.2279e-01,  ..., -1.4436e-01,\n",
       "            4.4961e-01,  1.1098e+00],\n",
       "          [ 2.4036e-01,  2.6096e-01,  1.9776e+00,  ...,  1.7962e+00,\n",
       "           -1.2537e+00, -6.8193e-02]]], grad_fn=<AddBackward0>))"
      ]
     },
     "execution_count": 16,
     "metadata": {},
     "output_type": "execute_result"
    }
   ],
   "execution_count": 16
  }
 ],
 "metadata": {
  "kernelspec": {
   "display_name": "Python 3",
   "language": "python",
   "name": "python3"
  },
  "language_info": {
   "codemirror_mode": {
    "name": "ipython",
    "version": 2
   },
   "file_extension": ".py",
   "mimetype": "text/x-python",
   "name": "python",
   "nbconvert_exporter": "python",
   "pygments_lexer": "ipython2",
   "version": "2.7.6"
  }
 },
 "nbformat": 4,
 "nbformat_minor": 5
}
